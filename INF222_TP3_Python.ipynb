{
  "nbformat": 4,
  "nbformat_minor": 0,
  "metadata": {
    "colab": {
      "provenance": []
    },
    "kernelspec": {
      "name": "python3",
      "display_name": "Python 3"
    },
    "language_info": {
      "name": "python"
    }
  },
  "cells": [
    {
      "cell_type": "markdown",
      "source": [
        "#Estudo Comparativo de Métodos Para o Dutch National Flag"
      ],
      "metadata": {
        "id": "NK3T8TKEkutB"
      }
    },
    {
      "cell_type": "markdown",
      "source": [
        "##Instalação de Dependências"
      ],
      "metadata": {
        "id": "BbYKeL0NlwjY"
      }
    },
    {
      "cell_type": "code",
      "source": [
        "import random\n",
        "import time"
      ],
      "metadata": {
        "id": "_P5XGYWzl06w"
      },
      "execution_count": 1,
      "outputs": []
    },
    {
      "cell_type": "markdown",
      "source": [
        "##Geração de Arrays"
      ],
      "metadata": {
        "id": "aYoS4IDvk-cu"
      }
    },
    {
      "cell_type": "code",
      "execution_count": 2,
      "metadata": {
        "colab": {
          "base_uri": "https://localhost:8080/"
        },
        "id": "x1PTftslkf6j",
        "outputId": "d2ed314a-c057-4b39-8235-6b79e3d28c67"
      },
      "outputs": [
        {
          "output_type": "stream",
          "name": "stdout",
          "text": [
            "331542\n",
            "336249\n",
            "332209\n",
            "----------\n",
            "487432\n",
            "25376\n",
            "487192\n"
          ]
        }
      ],
      "source": [
        "seed = 10\n",
        "random.seed(seed)\n",
        "\n",
        "tamanho_array = 1000000\n",
        "array_uniforme = [random.uniform(0.0, 1.0) for i in range(tamanho_array)]\n",
        "\n",
        "zeros = []\n",
        "neg = []\n",
        "pos = []\n",
        "\n",
        "for i,num in enumerate(array_uniforme):\n",
        "  array_uniforme[i] = round(num * random.randint(-1, 1), 2)\n",
        "  if array_uniforme[i] < 0:\n",
        "    neg.append(array_uniforme[i])\n",
        "\n",
        "  if array_uniforme[i] == 0:\n",
        "    zeros.append(array_uniforme[i])\n",
        "\n",
        "  if array_uniforme[i] > 0:\n",
        "    pos.append(array_uniforme[i])\n",
        "\n",
        "\n",
        "with open(\"array_uniforme_1m.txt\", \"w\") as arquivo:\n",
        "  for num in array_uniforme:\n",
        "    arquivo.write(str(round(num, 2)) + \"\\n\")\n",
        "\n",
        "\n",
        "array_uniforme_quase_ordenado = neg + zeros + pos\n",
        "for i in range(tamanho_array):\n",
        "  if random.random() < 0.3:\n",
        "    j = random.randint(0, tamanho_array-1)\n",
        "    array_uniforme_quase_ordenado[i], array_uniforme_quase_ordenado[j] = \\\n",
        "    array_uniforme_quase_ordenado[j], array_uniforme_quase_ordenado[i]\n",
        "\n",
        "with open(\"array_uniforme_quase_ordenado_1m.txt\", \"w\") as arquivo:\n",
        "  for num in array_uniforme_quase_ordenado:\n",
        "    arquivo.write(str(round(num, 2)) + \"\\n\")\n",
        "\n",
        "print(len(neg))\n",
        "print(len(zeros))\n",
        "print(len(pos))\n",
        "\n",
        "print(\"----------\")\n",
        "\n",
        "zeros = []\n",
        "neg = []\n",
        "pos = []\n",
        "\n",
        "array_nao_uniforme = [random.uniform(0.0, 1.0) for i in range(tamanho_array)]\n",
        "\n",
        "for i,num in enumerate(array_nao_uniforme):\n",
        "  array_nao_uniforme[i] = round(num * random.randint(-20, 20), 2)\n",
        "  if array_nao_uniforme[i] < 0:\n",
        "    neg.append(array_nao_uniforme[i])\n",
        "  if array_nao_uniforme[i] == 0:\n",
        "    zeros.append(array_nao_uniforme[i])\n",
        "  if array_nao_uniforme[i] > 0:\n",
        "    pos.append(array_nao_uniforme[i])\n",
        "\n",
        "with open(\"array_nao_uniforme_1m.txt\", \"w\") as arquivo:\n",
        "  for num in array_nao_uniforme:\n",
        "    arquivo.write(str(round(num, 2)) + \"\\n\")\n",
        "\n",
        "array_nao_uniforme_quase_ordenado = neg + zeros + pos\n",
        "for i in range(tamanho_array):\n",
        "  if random.random() < 0.3:\n",
        "    j = random.randint(0, tamanho_array-1)\n",
        "    array_nao_uniforme_quase_ordenado[i], array_nao_uniforme_quase_ordenado[j] = \\\n",
        "    array_nao_uniforme_quase_ordenado[j], array_nao_uniforme_quase_ordenado[i]\n",
        "\n",
        "with open(\"array_nao_uniforme_quase_ordenado_1m.txt\", \"w\") as arquivo:\n",
        "  for num in array_nao_uniforme_quase_ordenado:\n",
        "    arquivo.write(str(round(num, 2)) + \"\\n\")\n",
        "\n",
        "print(len(neg))\n",
        "print(len(zeros))\n",
        "print(len(pos))"
      ]
    },
    {
      "cell_type": "markdown",
      "source": [
        "##Método de Dijkstra"
      ],
      "metadata": {
        "id": "MEf719G_lV7w"
      }
    },
    {
      "cell_type": "code",
      "source": [
        "def Dijkstra(array):\n",
        "  i = 0\n",
        "  j = 0\n",
        "  k = len(array) - 1\n",
        "\n",
        "  while j <= k:\n",
        "    if array[j] < 0:\n",
        "      array[i], array[j] = array[j], array[i]\n",
        "      i += 1\n",
        "      j += 1\n",
        "    elif array[j] > 0:\n",
        "      array[j], array[k] = array[k], array[j]\n",
        "      k -= 1\n",
        "    else:\n",
        "      j += 1\n",
        "\n",
        "  return array"
      ],
      "metadata": {
        "id": "kG4baY9vlchE"
      },
      "execution_count": 3,
      "outputs": []
    },
    {
      "cell_type": "markdown",
      "source": [
        "##Nosso Método"
      ],
      "metadata": {
        "id": "zwm7Ko4mlc5Z"
      }
    },
    {
      "cell_type": "code",
      "source": [
        "def NossoMetodo(array):\n",
        "  initial = [0 for i in range(len(array))]\n",
        "  beg = 0\n",
        "  end = len(array) - 1\n",
        "\n",
        "  for num in array:\n",
        "    if num < 0:\n",
        "      initial[beg] = num\n",
        "      beg += 1\n",
        "    elif num > 0:\n",
        "      initial[end] = num\n",
        "      end -= 1\n",
        "\n",
        "  return initial"
      ],
      "metadata": {
        "id": "tOXO8AR-lfq3"
      },
      "execution_count": 4,
      "outputs": []
    },
    {
      "cell_type": "markdown",
      "source": [
        "##Comparação..."
      ],
      "metadata": {
        "id": "TDgEN00ilgUP"
      }
    },
    {
      "cell_type": "markdown",
      "source": [
        "Nosso método com array uniforme com dados aleatórios\n"
      ],
      "metadata": {
        "id": "YlxV_euW_3S8"
      }
    },
    {
      "cell_type": "code",
      "source": [
        "array_experimento = []\n",
        "for num in array_uniforme:\n",
        "  array_experimento.append(num)\n",
        "\n",
        "inicio_cronometro = time.time()\n",
        "NossoMetodo(array_uniforme)\n",
        "final_cronometro = time.time()\n",
        "print(\"Tempo total =\", 1000*(final_cronometro - inicio_cronometro))"
      ],
      "metadata": {
        "id": "P2XzsNFK__3l",
        "colab": {
          "base_uri": "https://localhost:8080/"
        },
        "outputId": "7c76e3f5-82f2-4e95-810a-e6dd45afdbd9"
      },
      "execution_count": 10,
      "outputs": [
        {
          "output_type": "stream",
          "name": "stdout",
          "text": [
            "Tempo total = 202.4829387664795\n"
          ]
        }
      ]
    },
    {
      "cell_type": "markdown",
      "source": [
        "Método de Dijkstra com array uniforme com dados aleatórios\n"
      ],
      "metadata": {
        "id": "TweZMPrq_H8f"
      }
    },
    {
      "cell_type": "code",
      "source": [
        "array_experimento = []\n",
        "for num in array_uniforme:\n",
        "  array_experimento.append(num)\n",
        "\n",
        "inicio_cronometro = time.time()\n",
        "Dijkstra(array_uniforme)\n",
        "final_cronometro = time.time()\n",
        "print(\"Tempo total =\", 1000*(final_cronometro - inicio_cronometro))"
      ],
      "metadata": {
        "id": "lF4Obd_C8-qB",
        "colab": {
          "base_uri": "https://localhost:8080/"
        },
        "outputId": "7c37c782-da71-4c3f-fe97-22de22811850"
      },
      "execution_count": 6,
      "outputs": [
        {
          "output_type": "stream",
          "name": "stdout",
          "text": [
            "Tempo total = 272.7618217468262\n"
          ]
        }
      ]
    },
    {
      "cell_type": "markdown",
      "source": [
        "Nosso método com array não uniforme com dados aleatórios\n"
      ],
      "metadata": {
        "id": "-LOG2XAHAKSc"
      }
    },
    {
      "cell_type": "code",
      "source": [
        "array_experimento = []\n",
        "for num in array_nao_uniforme:\n",
        "  array_experimento.append(num)\n",
        "\n",
        "inicio_cronometro = time.time()\n",
        "NossoMetodo(array_nao_uniforme)\n",
        "final_cronometro = time.time()\n",
        "print(\"Tempo total =\", 1000*(final_cronometro - inicio_cronometro))"
      ],
      "metadata": {
        "id": "FWz9qpN4Ah8n",
        "colab": {
          "base_uri": "https://localhost:8080/"
        },
        "outputId": "20c8bbbb-7c74-4f4f-fd3e-ade986f10947"
      },
      "execution_count": 7,
      "outputs": [
        {
          "output_type": "stream",
          "name": "stdout",
          "text": [
            "Tempo total = 193.17865371704102\n"
          ]
        }
      ]
    },
    {
      "cell_type": "markdown",
      "source": [
        "Método de Dijkstra com array não uniforme com dados aleatórios"
      ],
      "metadata": {
        "id": "bM-MfGz4AwXY"
      }
    },
    {
      "cell_type": "code",
      "source": [
        "array_experimento = []\n",
        "for num in array_nao_uniforme:\n",
        "  array_experimento.append(num)\n",
        "\n",
        "inicio_cronometro = time.time()\n",
        "Dijkstra(array_nao_uniforme)\n",
        "final_cronometro = time.time()\n",
        "print(\"Tempo total =\", 1000*(final_cronometro - inicio_cronometro))"
      ],
      "metadata": {
        "id": "AII5iBy9AvXk",
        "colab": {
          "base_uri": "https://localhost:8080/"
        },
        "outputId": "0cac05fc-b285-4896-c0ed-e7ed7a535676"
      },
      "execution_count": 8,
      "outputs": [
        {
          "output_type": "stream",
          "name": "stdout",
          "text": [
            "Tempo total = 353.96552085876465\n"
          ]
        }
      ]
    },
    {
      "cell_type": "markdown",
      "source": [
        "Nosso método com array uniforme quase ordenado"
      ],
      "metadata": {
        "id": "lzfvhw-6BuM1"
      }
    },
    {
      "cell_type": "code",
      "source": [
        "array_experimento = []\n",
        "for num in array_uniforme_quase_ordenado:\n",
        "  array_experimento.append(num)\n",
        "\n",
        "inicio_cronometro = time.time()\n",
        "NossoMetodo(array_uniforme_quase_ordenado)\n",
        "final_cronometro = time.time()\n",
        "print(\"Tempo total =\", 1000*(final_cronometro - inicio_cronometro))"
      ],
      "metadata": {
        "id": "6fxpgmJ4BsXH",
        "colab": {
          "base_uri": "https://localhost:8080/"
        },
        "outputId": "1f38cfad-f055-4526-fb69-26cf9b4030af"
      },
      "execution_count": 9,
      "outputs": [
        {
          "output_type": "stream",
          "name": "stdout",
          "text": [
            "Tempo total = 270.31779289245605\n"
          ]
        }
      ]
    },
    {
      "cell_type": "markdown",
      "source": [
        "Método de Dijkstra com array uniforme quase ordenado\n"
      ],
      "metadata": {
        "id": "53OXk_-BCCYl"
      }
    },
    {
      "cell_type": "code",
      "source": [
        "array_experimento = []\n",
        "for num in array_uniforme_quase_ordenado:\n",
        "  array_experimento.append(num)\n",
        "\n",
        "inicio_cronometro = time.time()\n",
        "Dijkstra(array_uniforme_quase_ordenado)\n",
        "final_cronometro = time.time()\n",
        "print(\"Tempo total =\", 1000*(final_cronometro - inicio_cronometro))"
      ],
      "metadata": {
        "id": "MYwqR7w-CHMo",
        "colab": {
          "base_uri": "https://localhost:8080/"
        },
        "outputId": "dbfc5703-b978-468e-e792-99cc1c6e0dc4"
      },
      "execution_count": null,
      "outputs": [
        {
          "output_type": "stream",
          "name": "stdout",
          "text": [
            "Tempo total = 3601.9575595855713\n"
          ]
        }
      ]
    },
    {
      "cell_type": "markdown",
      "source": [
        "Nosso método com array não uniforme quase ordenado\n"
      ],
      "metadata": {
        "id": "yVOBx0_lCRdU"
      }
    },
    {
      "cell_type": "code",
      "source": [
        "array_experimento = []\n",
        "for num in array_nao_uniforme_quase_ordenado:\n",
        "  array_experimento.append(num)\n",
        "\n",
        "inicio_cronometro = time.time()\n",
        "NossoMetodo(array_nao_uniforme_quase_ordenado)\n",
        "final_cronometro = time.time()\n",
        "print(\"Tempo total =\", 1000*(final_cronometro - inicio_cronometro))"
      ],
      "metadata": {
        "id": "rYuS5ADyCWEr",
        "colab": {
          "base_uri": "https://localhost:8080/"
        },
        "outputId": "f96b4d4e-38c5-4c61-aee3-4087bd6417da"
      },
      "execution_count": null,
      "outputs": [
        {
          "output_type": "stream",
          "name": "stdout",
          "text": [
            "Tempo total = 2977.628231048584\n"
          ]
        }
      ]
    },
    {
      "cell_type": "markdown",
      "source": [
        "Método de Dijkstra com array não uniforme quase ordenado\n"
      ],
      "metadata": {
        "id": "9PfhVz93Cdez"
      }
    },
    {
      "cell_type": "code",
      "source": [
        "array_experimento = []\n",
        "for num in array_nao_uniforme_quase_ordenado:\n",
        "  array_experimento.append(num)\n",
        "\n",
        "inicio_cronometro = time.time()\n",
        "Dijkstra(array_nao_uniforme_quase_ordenado)\n",
        "final_cronometro = time.time()\n",
        "print(\"Tempo total =\", 1000*(final_cronometro - inicio_cronometro))"
      ],
      "metadata": {
        "id": "LvaQ38XqCeZ1",
        "colab": {
          "base_uri": "https://localhost:8080/"
        },
        "outputId": "a3904986-596b-4f33-b4fa-94b87307e8cf"
      },
      "execution_count": null,
      "outputs": [
        {
          "output_type": "stream",
          "name": "stdout",
          "text": [
            "Tempo total = 3661.705493927002\n"
          ]
        }
      ]
    }
  ]
}